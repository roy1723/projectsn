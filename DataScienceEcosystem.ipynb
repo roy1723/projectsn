{
 "cells": [
  {
   "cell_type": "markdown",
   "id": "a26ca45f-cb5c-47bf-b661-31bd40e46f69",
   "metadata": {
    "tags": []
   },
   "source": [
    "# Data Science Tools and Ecosystem"
   ]
  },
  {
   "cell_type": "markdown",
   "id": "245a1770-10c6-46df-b848-5b4e7525719f",
   "metadata": {
    "tags": []
   },
   "source": [
    "In this notebook, Data Science Tools and Ecosystem are summarized."
   ]
  },
  {
   "cell_type": "markdown",
   "id": "edd6638b-83bb-4b54-a004-9d39eafda903",
   "metadata": {},
   "source": [
    "#### Objectives:\n",
    "  popular languages are-\n",
    "  - Python\n",
    "  - Scala\n",
    "  - R language"
   ]
  },
  {
   "cell_type": "markdown",
   "id": "0c75715a-fa73-4ce9-84eb-45f0aceb0158",
   "metadata": {},
   "source": [
    "Some of the popular languages that Data Scientists use are:\n",
    "1. Python\n",
    "2. Scala\n",
    "3. R language"
   ]
  },
  {
   "cell_type": "markdown",
   "id": "0d309b28-3575-411a-8e9a-dda447aa9b8b",
   "metadata": {},
   "source": [
    "Some of the commonly used libraries used by Data Scientists include:\n",
    "1. Numpy\n",
    "2. pandas\n",
    "3. Matplotlib"
   ]
  },
  {
   "cell_type": "markdown",
   "id": "290fbf12-2d45-43ba-8654-56fd4a1ff7d7",
   "metadata": {},
   "source": [
    "|Data Science Tools|\n",
    "|------------------|\n",
    "|MATLAB|\n",
    "|Tensorflow|\n",
    "|Apache spark|"
   ]
  },
  {
   "cell_type": "markdown",
   "id": "dbc5e266-fe69-40f8-ad2c-d93e8a4f03f9",
   "metadata": {},
   "source": [
    "### Below are a few examples of evaluating arithmetic expressions in Python"
   ]
  },
  {
   "cell_type": "code",
   "execution_count": 9,
   "id": "8a7ebd65-c547-46e5-ad19-22ad9c3a1354",
   "metadata": {
    "tags": []
   },
   "outputs": [
    {
     "data": {
      "text/plain": [
       "17"
      ]
     },
     "execution_count": 9,
     "metadata": {},
     "output_type": "execute_result"
    }
   ],
   "source": [
    "#This a simple arithmetic expression to mutiply then add integers\n",
    "(3*4)+5"
   ]
  },
  {
   "cell_type": "code",
   "execution_count": 10,
   "id": "9a902165-6f12-401e-8a47-f0b959824e53",
   "metadata": {
    "tags": []
   },
   "outputs": [
    {
     "name": "stdout",
     "output_type": "stream",
     "text": [
      "200 minutes in hours is 3.3333333333333335\n"
     ]
    }
   ],
   "source": [
    "#This will convert 200 minutes to hours by diving by 60\n",
    "x=200\n",
    "y=60\n",
    "z=x/y\n",
    "print(\"200 minutes in hours is\",z)"
   ]
  },
  {
   "cell_type": "markdown",
   "id": "7d9fd789-12cf-4f4a-b6c6-67edc58cc7f4",
   "metadata": {},
   "source": [
    "## Author\n",
    "Sahil"
   ]
  }
 ],
 "metadata": {
  "kernelspec": {
   "display_name": "Python",
   "language": "python",
   "name": "conda-env-python-py"
  },
  "language_info": {
   "codemirror_mode": {
    "name": "ipython",
    "version": 3
   },
   "file_extension": ".py",
   "mimetype": "text/x-python",
   "name": "python",
   "nbconvert_exporter": "python",
   "pygments_lexer": "ipython3",
   "version": "3.7.12"
  }
 },
 "nbformat": 4,
 "nbformat_minor": 5
}
